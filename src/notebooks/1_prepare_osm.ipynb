{
 "metadata": {
  "language_info": {
   "codemirror_mode": {
    "name": "ipython",
    "version": 3
   },
   "file_extension": ".py",
   "mimetype": "text/x-python",
   "name": "python",
   "nbconvert_exporter": "python",
   "pygments_lexer": "ipython3",
   "version": "3.7.10"
  },
  "orig_nbformat": 4,
  "kernelspec": {
   "name": "python3",
   "display_name": "Python 3.7.10 64-bit ('tf2-cpu': conda)"
  },
  "interpreter": {
   "hash": "286f6c3098a1484a767684ce1faedd19617f9d285e9007065f9c7b7427ca4052"
  },
  "metadata": {
   "interpreter": {
    "hash": "fb5cb8c5403e703276a636ea01fb1330f152890c623a77091059b27398d66e81"
   }
  }
 },
 "nbformat": 4,
 "nbformat_minor": 2,
 "cells": [
  {
   "cell_type": "code",
   "execution_count": 1,
   "source": [
    "import numpy as np\n",
    "lats = np.load(\"../data/didi/val.npy-lats.npy\", allow_pickle=True)\n",
    "lngs = np.load(\"../data/didi/val.npy-lngs.npy\", allow_pickle=True)\n",
    "labels = np.load(\"../data/didi/val.npy-labels.npy\", allow_pickle=True)"
   ],
   "outputs": [],
   "metadata": {}
  },
  {
   "cell_type": "code",
   "execution_count": 2,
   "source": [
    "labels[83418]"
   ],
   "outputs": [
    {
     "output_type": "execute_result",
     "data": {
      "text/plain": [
       "644"
      ]
     },
     "metadata": {},
     "execution_count": 2
    }
   ],
   "metadata": {}
  },
  {
   "cell_type": "code",
   "execution_count": 9,
   "source": [
    "lats.shape"
   ],
   "outputs": [
    {
     "output_type": "execute_result",
     "data": {
      "text/plain": [
       "(363381,)"
      ]
     },
     "metadata": {},
     "execution_count": 9
    }
   ],
   "metadata": {}
  },
  {
   "cell_type": "code",
   "execution_count": 10,
   "source": [
    "lngs.shape"
   ],
   "outputs": [
    {
     "output_type": "execute_result",
     "data": {
      "text/plain": [
       "(363381,)"
      ]
     },
     "metadata": {},
     "execution_count": 10
    }
   ],
   "metadata": {}
  },
  {
   "cell_type": "code",
   "execution_count": 12,
   "source": [
    "\"\"\"\n",
    "GPS CSV Format:\n",
    "id;lng;lat\n",
    "1;xxx;yyy\n",
    "1;xxx;yyy\n",
    "...\n",
    "2;xxx;yyy\n",
    "2;xxx;yyy\n",
    "...\n",
    "\"\"\"\n",
    "length = len(lats)\n",
    "f = open(\"../data/didi/val-gps.csv\", \"a+\")\n",
    "f.write(f\"id;lng;lat\\n\")\n",
    "for i in range(1, length + 1):\n",
    "    lng = lngs[i - 1]\n",
    "    lat = lats[i - 1]\n",
    "    for x, y in zip(lng, lat):\n",
    "        f.write(f\"{i - 1};{x};{y}\\n\")\n",
    "f.close()"
   ],
   "outputs": [],
   "metadata": {}
  },
  {
   "cell_type": "code",
   "execution_count": 1,
   "source": [
    "import osmnx as ox\n",
    "import time\n",
    "from shapely.geometry import Polygon\n",
    "import os\n",
    "\n",
    "def save_graph_shapefile_directional(G, filepath=None, encoding=\"utf-8\"):\n",
    "    # default filepath if none was provided\n",
    "    if filepath is None:\n",
    "        filepath = os.path.join(ox.settings.data_folder, \"graph_shapefile\")\n",
    "\n",
    "    # if save folder does not already exist, create it (shapefiles\n",
    "    # get saved as set of files)\n",
    "    if not filepath == \"\" and not os.path.exists(filepath):\n",
    "        os.makedirs(filepath)\n",
    "    filepath_nodes = os.path.join(filepath, \"nodes.shp\")\n",
    "    filepath_edges = os.path.join(filepath, \"edges.shp\")\n",
    "\n",
    "    # convert undirected graph to gdfs and stringify non-numeric columns\n",
    "    gdf_nodes, gdf_edges = ox.utils_graph.graph_to_gdfs(G)\n",
    "    gdf_nodes = ox.io._stringify_nonnumeric_cols(gdf_nodes)\n",
    "    gdf_edges = ox.io._stringify_nonnumeric_cols(gdf_edges)\n",
    "    # We need an unique ID for each edge\n",
    "    gdf_edges[\"fid\"] = gdf_edges.index\n",
    "    # save the nodes and edges as separate ESRI shapefiles\n",
    "    gdf_nodes.to_file(filepath_nodes, encoding=encoding)\n",
    "    gdf_edges.to_file(filepath_edges, encoding=encoding)"
   ],
   "outputs": [],
   "metadata": {}
  },
  {
   "cell_type": "code",
   "execution_count": 7,
   "source": [
    "# Download by place name\n",
    "# place = \"Porto, Portugal\"\n",
    "place = \"Chengdu\"\n",
    "# G = ox.graph_from_place(place, network_type='drive', which_result=2)\n",
    "G = ox.graph_from_place(place, network_type='drive', which_result=1)\n",
    "save_graph_shapefile_directional(G, filepath='chengdu')"
   ],
   "outputs": [],
   "metadata": {}
  },
  {
   "cell_type": "code",
   "execution_count": 1,
   "source": [
    "import geopandas as gp"
   ],
   "outputs": [],
   "metadata": {}
  },
  {
   "cell_type": "code",
   "execution_count": 4,
   "source": [
    "edge_shp = gp.GeoDataFrame.from_file(\"../../data/road_networks/porto/edges.shp\")\n",
    "# edge_shp = gp.GeoDataFrame.from_file(\"../data/chengdu/edges.shp\")"
   ],
   "outputs": [],
   "metadata": {}
  },
  {
   "cell_type": "code",
   "execution_count": 5,
   "source": [
    "node_shp = gp.GeoDataFrame.from_file(\"../../data/road_networks/porto/nodes.shp\")\n",
    "# node_shp = gp.GeoDataFrame.from_file(\"../data/chengdu/nodes.shp\")"
   ],
   "outputs": [],
   "metadata": {}
  },
  {
   "cell_type": "code",
   "execution_count": 6,
   "source": [
    "print(edge_shp)"
   ],
   "outputs": [
    {
     "output_type": "stream",
     "name": "stdout",
     "text": [
      "            osmid oneway                   name      highway   length     ref  \\\n",
      "0       298888962   True  Avenida Vasco da Gama  residential   56.521    None   \n",
      "1       298888969  False  Avenida Vasco da Gama  residential   15.502    None   \n",
      "2       298888962   True  Avenida Vasco da Gama  residential   34.347    None   \n",
      "3       298888971  False  Avenida Vasco da Gama  residential    6.977    None   \n",
      "4       298888971  False  Avenida Vasco da Gama  residential    6.977    None   \n",
      "...           ...    ...                    ...          ...      ...     ...   \n",
      "182373   50729714  False                   None      primary  148.473  EN 204   \n",
      "182374   35112471   True             Rua de Fez  residential  138.525    None   \n",
      "182375   40769478   True             Rua de Fez  residential  126.632    None   \n",
      "182376   95948590   True                   None      primary   18.903  EN 204   \n",
      "182377  223117152  False                   None      primary  154.808  EN 204   \n",
      "\n",
      "       bridge junction lanes maxspeed access tunnel width service  area  \\\n",
      "0        None     None  None     None   None   None  None    None  None   \n",
      "1        None     None  None     None   None   None  None    None  None   \n",
      "2        None     None  None     None   None   None  None    None  None   \n",
      "3        None     None  None     None   None   None  None    None  None   \n",
      "4        None     None  None     None   None   None  None    None  None   \n",
      "...       ...      ...   ...      ...    ...    ...   ...     ...   ...   \n",
      "182373   None     None  None     None   None   None  None    None  None   \n",
      "182374   None     None  None     None   None   None  None    None  None   \n",
      "182375   None     None  None     None   None   None  None    None  None   \n",
      "182376   None     None  None     None   None   None  None    None  None   \n",
      "182377   None     None  None     None   None   None  None    None  None   \n",
      "\n",
      "                 u           v  key     fid  \\\n",
      "0       3028549663  3028549666    0       0   \n",
      "1       3028549663   295232574    0       1   \n",
      "2       3028549666  3028549668    0       2   \n",
      "3       3028549666  3028549667    0       3   \n",
      "4       3028549667  3028549666    0       4   \n",
      "...            ...         ...  ...     ...   \n",
      "182373   646709200  1111737661    0  182373   \n",
      "182374   314048477   314074035    0  182374   \n",
      "182375   314048477   314074036    0  182375   \n",
      "182376   646709217  1840079401    0  182376   \n",
      "182377   646709217  1764572789    0  182377   \n",
      "\n",
      "                                                 geometry  \n",
      "0       LINESTRING (-8.61782 41.22851, -8.61778 41.228...  \n",
      "1       LINESTRING (-8.61782 41.22851, -8.61786 41.228...  \n",
      "2       LINESTRING (-8.61732 41.22881, -8.61701 41.22902)  \n",
      "3       LINESTRING (-8.61732 41.22881, -8.61737 41.22885)  \n",
      "4       LINESTRING (-8.61737 41.22885, -8.61732 41.22881)  \n",
      "...                                                   ...  \n",
      "182373  LINESTRING (-8.46670 41.35439, -8.46668 41.354...  \n",
      "182374  LINESTRING (-8.66288 41.16201, -8.66446 41.16164)  \n",
      "182375  LINESTRING (-8.66288 41.16201, -8.66280 41.162...  \n",
      "182376  LINESTRING (-8.46709 41.35260, -8.46709 41.35277)  \n",
      "182377  LINESTRING (-8.46709 41.35260, -8.46682 41.352...  \n",
      "\n",
      "[182378 rows x 20 columns]\n"
     ]
    }
   ],
   "metadata": {}
  },
  {
   "cell_type": "code",
   "execution_count": 7,
   "source": [
    "print(node_shp)"
   ],
   "outputs": [
    {
     "output_type": "stream",
     "name": "stdout",
     "text": [
      "               y         x       osmid highway   ref  \\\n",
      "0      41.228514 -8.617824  3028549663    None  None   \n",
      "1      41.228809 -8.617318  3028549666    None  None   \n",
      "2      41.228855 -8.617374  3028549667    None  None   \n",
      "3      41.229016 -8.617014  3028549668    None  None   \n",
      "4      41.229516 -8.616315  3028549671    None  None   \n",
      "...          ...       ...         ...     ...   ...   \n",
      "76560  41.067055 -8.578468   676855721    None  None   \n",
      "76561  41.067116 -8.576226   676855724    None  None   \n",
      "76562  41.354386 -8.466703   646709200    None  None   \n",
      "76563  41.162013 -8.662884   314048477    None  None   \n",
      "76564  41.352596 -8.467094   646709217    None  None   \n",
      "\n",
      "                        geometry  \n",
      "0      POINT (-8.61782 41.22851)  \n",
      "1      POINT (-8.61732 41.22881)  \n",
      "2      POINT (-8.61737 41.22885)  \n",
      "3      POINT (-8.61701 41.22902)  \n",
      "4      POINT (-8.61632 41.22952)  \n",
      "...                          ...  \n",
      "76560  POINT (-8.57847 41.06706)  \n",
      "76561  POINT (-8.57623 41.06712)  \n",
      "76562  POINT (-8.46670 41.35439)  \n",
      "76563  POINT (-8.66288 41.16201)  \n",
      "76564  POINT (-8.46709 41.35260)  \n",
      "\n",
      "[76565 rows x 6 columns]\n"
     ]
    }
   ],
   "metadata": {}
  },
  {
   "cell_type": "code",
   "execution_count": 8,
   "source": [
    "len(edge_shp.osmid.unique())"
   ],
   "outputs": [
    {
     "output_type": "execute_result",
     "data": {
      "text/plain": [
       "57092"
      ]
     },
     "metadata": {},
     "execution_count": 8
    }
   ],
   "metadata": {}
  },
  {
   "cell_type": "code",
   "execution_count": 9,
   "source": [
    "len(edge_shp.u.unique())"
   ],
   "outputs": [
    {
     "output_type": "execute_result",
     "data": {
      "text/plain": [
       "76501"
      ]
     },
     "metadata": {},
     "execution_count": 9
    }
   ],
   "metadata": {}
  },
  {
   "cell_type": "code",
   "execution_count": 11,
   "source": [
    "len(edge_shp.v.unique())"
   ],
   "outputs": [
    {
     "output_type": "execute_result",
     "data": {
      "text/plain": [
       "76499"
      ]
     },
     "metadata": {},
     "execution_count": 11
    }
   ],
   "metadata": {}
  },
  {
   "cell_type": "code",
   "execution_count": 17,
   "source": [
    "import numpy as np\n",
    "len(np.unique(np.concatenate([edge_shp.u, edge_shp.v])))"
   ],
   "outputs": [
    {
     "output_type": "execute_result",
     "data": {
      "text/plain": [
       "76565"
      ]
     },
     "metadata": {},
     "execution_count": 17
    }
   ],
   "metadata": {}
  },
  {
   "cell_type": "code",
   "execution_count": 10,
   "source": [
    "len(node_shp.osmid.unique())"
   ],
   "outputs": [
    {
     "output_type": "execute_result",
     "data": {
      "text/plain": [
       "76565"
      ]
     },
     "metadata": {},
     "execution_count": 10
    }
   ],
   "metadata": {}
  },
  {
   "cell_type": "code",
   "execution_count": 18,
   "source": [
    "node_shp.columns"
   ],
   "outputs": [
    {
     "output_type": "execute_result",
     "data": {
      "text/plain": [
       "Index(['y', 'x', 'osmid', 'highway', 'ref', 'geometry'], dtype='object')"
      ]
     },
     "metadata": {},
     "execution_count": 18
    }
   ],
   "metadata": {}
  },
  {
   "cell_type": "code",
   "execution_count": 9,
   "source": [
    "print(edge_shp.highway.unique())"
   ],
   "outputs": [
    {
     "output_type": "stream",
     "name": "stdout",
     "text": [
      "['residential' 'primary' 'secondary' 'unclassified' 'tertiary'\n",
      " \"['tertiary', 'residential']\" 'primary_link' 'motorway_link'\n",
      " \"['unclassified', 'residential']\" 'tertiary_link' 'motorway'\n",
      " 'living_street' 'secondary_link' 'trunk' 'trunk_link'\n",
      " \"['primary', 'primary_link']\" \"['secondary', 'secondary_link']\"\n",
      " \"['tertiary', 'unclassified']\" \"['residential', 'living_street']\"\n",
      " \"['tertiary', 'unclassified', 'residential']\"\n",
      " \"['tertiary_link', 'tertiary']\" \"['unclassified', 'secondary']\"\n",
      " \"['primary', 'trunk']\" \"['trunk_link', 'trunk']\"\n",
      " \"['residential', 'secondary']\" \"['tertiary', 'secondary']\" 'planned'\n",
      " \"['tertiary', 'living_street']\" 'escape' \"['trunk', 'motorway_link']\"\n",
      " \"['unclassified', 'living_street']\" \"['motorway_link', 'motorway']\"\n",
      " \"['primary', 'residential']\" \"['residential', 'motorway_link']\"\n",
      " \"['tertiary_link', 'motorway_link']\" \"['trunk_link', 'primary_link']\"\n",
      " \"['primary', 'unclassified']\" \"['residential', 'planned']\"\n",
      " \"['secondary', 'motorway_link']\" \"['primary', 'tertiary']\"\n",
      " \"['primary', 'trunk_link']\" \"['primary', 'secondary']\"]\n"
     ]
    }
   ],
   "metadata": {}
  },
  {
   "cell_type": "code",
   "execution_count": null,
   "source": [],
   "outputs": [],
   "metadata": {}
  }
 ]
}